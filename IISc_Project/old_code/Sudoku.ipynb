{
 "cells": [
  {
   "cell_type": "markdown",
   "metadata": {},
   "source": [
    "# state\n",
    "Initialise 4*4 board with few cells filled initially"
   ]
  },
  {
   "cell_type": "markdown",
   "metadata": {},
   "source": [
    "# Action\n",
    "What position - What numbers can be filled based on current board state"
   ]
  },
  {
   "cell_type": "markdown",
   "metadata": {},
   "source": [
    "# Reward\n",
    "Between 0 and 1 given at end of the game"
   ]
  },
  {
   "cell_type": "code",
   "execution_count": 4,
   "metadata": {},
   "outputs": [],
   "source": [
    "import numpy as np\n",
    "def generate_sudoku(size): # to be written later\n",
    "    to_return = np.zeros((4, 4))\n",
    "    to_return[1] = np.array([2,3,4,1])\n",
    "    to_return[2] = np.array([3,4,1,2])\n",
    "    return to_return"
   ]
  },
  {
   "cell_type": "code",
   "execution_count": 11,
   "metadata": {},
   "outputs": [
    {
     "data": {
      "text/plain": [
       "array([[0., 0., 0., 0.],\n",
       "       [2., 3., 4., 1.],\n",
       "       [3., 4., 1., 2.],\n",
       "       [0., 0., 0., 0.]])"
      ]
     },
     "execution_count": 11,
     "metadata": {},
     "output_type": "execute_result"
    }
   ],
   "source": [
    "generate_sudoku(4)"
   ]
  },
  {
   "cell_type": "code",
   "execution_count": null,
   "metadata": {},
   "outputs": [],
   "source": [
    "def is_fill_valid(board, position_filled):\n",
    "    # To be formulated\n",
    "    return True"
   ]
  },
  {
   "cell_type": "code",
   "execution_count": 1,
   "metadata": {},
   "outputs": [],
   "source": [
    "BOARD_SIZE = 4"
   ]
  },
  {
   "cell_type": "code",
   "execution_count": 1,
   "metadata": {},
   "outputs": [],
   "source": [
    "class State:\n",
    "    def __init__(self, agent):\n",
    "        self.board = generate_sudoku(BOARD_SIZE) \n",
    "        self.isEnd = False\n",
    "        self.agent = agent\n",
    "        self.boardHash = None\n",
    "        self.last_position_filled = None\n",
    "        \n",
    "    # get unique hash of current board state\n",
    "    def get_hash(self):\n",
    "        self.boardHash = str(self.board.reshape(BOARD_SIZE * BOARD_SIZE))\n",
    "        return self.boardHash\n",
    "    \n",
    "    def available_positions(self):\n",
    "        positions = []\n",
    "        for i in range(BOARD_ROWS):\n",
    "            for j in range(BOARD_COLS):\n",
    "                if self.board[i, j] == 0:\n",
    "                    positions.append((i, j))  # need to be tuple\n",
    "        return positions\n",
    "\n",
    "    def update_state(self, position, value):\n",
    "        self.board[position] = value\n",
    "        self.last_position_filled = position\n",
    "        \n",
    "    def winner(self):\n",
    "        if not is_fill_valid(self.board, self.last_position_filled):\n",
    "            self.isEnd = True\n",
    "            return -1\n",
    "        \n",
    "        if len(self.available_positions()) == 0:\n",
    "            self.isEnd = True\n",
    "            return 1\n",
    "        \n",
    "        self.isEnd = False\n",
    "        return None\n",
    "    \n",
    "    # only when game ends\n",
    "    def give_reward(self):\n",
    "        result = self.winner()\n",
    "        # backpropagate reward\n",
    "        self.agent.feed_reward(result)\n",
    "        \n",
    "    # board reset\n",
    "    def reset(self):\n",
    "        self.board = generate_sudoku(BOARD_SIZE)\n",
    "        self.boardHash = None\n",
    "        self.isEnd = False\n",
    "        self.last_position_filled = None\n",
    "        \n",
    "    def play(self, rounds=100):\n",
    "        for i in range(rounds):\n",
    "            if i % 1000 == 0:\n",
    "                print(\"Rounds {}\".format(i))\n",
    "                \n",
    "            while not self.isEnd:\n",
    "                positions = self.available_positions()\n",
    "                agent_action = self.agent.choose_action(positions, self.board)\n",
    "                self.update_state(*agent_action)\n",
    "                board_hash = self.get_hash()\n",
    "                self.agent.add_state(board_hash)\n",
    "                \n",
    "                # check board status if it is end\n",
    "                win = self.winner()\n",
    "                if win is not None:\n",
    "                    # self.show_board()\n",
    "                    # ended with success or wrong fill\n",
    "                    self.give_reward()\n",
    "                    self.agent.reset()\n",
    "                    self.reset()\n",
    "                    break\n",
    "                    \n",
    "    def show_board(self):\n",
    "        for i in range(0, BOARD_SIZE):\n",
    "            print('-------------')\n",
    "            out = '| '\n",
    "            for j in range(0, BOARD_SIZE):\n",
    "                if self.board[i, j] == 0:\n",
    "                    token = ' '\n",
    "                else:\n",
    "                    token = str(self.board[i, j])\n",
    "                out += token + ' | '\n",
    "            print(out)\n",
    "        print('-------------')"
   ]
  },
  {
   "cell_type": "code",
   "execution_count": 2,
   "metadata": {},
   "outputs": [],
   "source": [
    "class Player:\n",
    "    def __init__(self, exp_rate=0.3):\n",
    "        self.states = []  # record all positions taken\n",
    "        self.lr = 0.2\n",
    "        self.exp_rate = exp_rate  # Epsilon\n",
    "        self.decay_gamma = 0.9\n",
    "        self.states_value = {}  # state -> value\n",
    "        \n",
    "    def choose_action(self, positions, current_board):\n",
    "        if np.random.uniform(0, 1) <= self.exp_rate:\n",
    "            # take random action\n",
    "            idx = np.random.choice(len(positions))\n",
    "            fill_val = np.random.choice(BOARD_SIZE)\n",
    "            action = (positions[idx], fill_val)\n",
    "        else:\n",
    "            value_max = -999\n",
    "            for p in positions:\n",
    "                for fill_val in range(BOARD_SIZE):\n",
    "                    next_board = current_board.copy()\n",
    "                    next_board[p] = fill_val\n",
    "                    next_boardHash = self.get_hash(next_board)\n",
    "                    value = 0 if self.states_value.get(next_boardHash) is None else self.states_value.get(next_boardHash)\n",
    "                    # print(\"value\", value)\n",
    "                    if value >= value_max:\n",
    "                        value_max = value\n",
    "                        action = (p, fill_val)\n",
    "        # print(\"{} takes action {}\".format(self.name, action))\n",
    "        return action\n",
    "    \n",
    "    # at the end of game, backpropagate and update states value\n",
    "    def feed_reward(self, reward):\n",
    "        for st in reversed(self.states):\n",
    "            if self.states_value.get(st) is None:\n",
    "                self.states_value[st] = 0\n",
    "            self.states_value[st] += self.lr * (self.decay_gamma * reward - self.states_value[st])\n",
    "            reward = self.states_value[st]\n",
    "            \n",
    "    # append a hash state\n",
    "    def add_state(self, state):\n",
    "        self.states.append(state)\n",
    "        \n",
    "    def reset(self):\n",
    "        self.states = []\n",
    "        \n",
    "    def save_policy(self):\n",
    "        with open('policy_agent', 'wb') as fw:\n",
    "            pickle.dump(self.states_value, fw)\n",
    "\n",
    "    def load_policy(self, file):\n",
    "        with open(file, 'rb') as fr:\n",
    "            self.states_value = pickle.load(fr)\n"
   ]
  },
  {
   "cell_type": "code",
   "execution_count": null,
   "metadata": {},
   "outputs": [],
   "source": [
    "# training\n",
    "agent = Player()\n",
    "st = State(agent)\n",
    "print(\"training...\")\n",
    "st.play(1)"
   ]
  }
 ],
 "metadata": {
  "kernelspec": {
   "display_name": "Python 3",
   "language": "python",
   "name": "python3"
  },
  "language_info": {
   "codemirror_mode": {
    "name": "ipython",
    "version": 3
   },
   "file_extension": ".py",
   "mimetype": "text/x-python",
   "name": "python",
   "nbconvert_exporter": "python",
   "pygments_lexer": "ipython3",
   "version": "3.8.1"
  }
 },
 "nbformat": 4,
 "nbformat_minor": 4
}
