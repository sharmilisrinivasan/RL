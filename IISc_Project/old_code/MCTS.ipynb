{
 "cells": [
  {
   "cell_type": "code",
   "execution_count": 1,
   "metadata": {},
   "outputs": [],
   "source": [
    "from copy import deepcopy"
   ]
  },
  {
   "cell_type": "code",
   "execution_count": 2,
   "metadata": {},
   "outputs": [],
   "source": [
    "from board import is_fill_valid, generate_sudoku"
   ]
  },
  {
   "cell_type": "code",
   "execution_count": 3,
   "metadata": {},
   "outputs": [],
   "source": [
    "BOARD_SIZE = 4"
   ]
  },
  {
   "cell_type": "code",
   "execution_count": 12,
   "metadata": {},
   "outputs": [],
   "source": [
    "class Action():\n",
    "    def __init__(self, value, x_pos, y_pos):\n",
    "        self.value = value\n",
    "        self.x = x_pos\n",
    "        self.y = y_pos\n",
    "\n",
    "    def __str__(self):\n",
    "        return f\"{self.x},{self.y} -> {self.value}\"\n",
    "\n",
    "    def __repr__(self):\n",
    "        return str(self)\n",
    "\n",
    "    def __eq__(self, other):\n",
    "        return self.__class__ == other.__class__ and self.x == other.x and self.y == other.y and self.value == other.value\n",
    "\n",
    "    def __hash__(self):\n",
    "        return hash((self.x, self.y, self.value))"
   ]
  },
  {
   "cell_type": "code",
   "execution_count": 13,
   "metadata": {},
   "outputs": [],
   "source": [
    "class State:\n",
    "    def __init__(self):\n",
    "        self.board = generate_sudoku(BOARD_SIZE)\n",
    "        self.isEnd = False\n",
    "        self.boardHash = None\n",
    "        self.last_position_filled = None\n",
    "        \n",
    "    def available_positions(self):\n",
    "        positions = []\n",
    "        for i in range(BOARD_SIZE):\n",
    "            for j in range(BOARD_SIZE):\n",
    "                if self.board[i, j] == 0:\n",
    "                    positions.append((i, j))  # need to be tuple\n",
    "        return positions\n",
    "        \n",
    "    def getPossibleActions(self):\n",
    "        possible_actions = []\n",
    "        \n",
    "        for x_pos in range(BOARD_SIZE):\n",
    "            for y_pos in range(BOARD_SIZE):\n",
    "                if self.board[x_pos, y_pos] == 0:\n",
    "                    for val in range(1, BOARD_SIZE+1):\n",
    "                        possible_actions.append(Action(value=val, x_pos = x_pos, y_pos = y_pos))\n",
    "        return possible_actions\n",
    "    \n",
    "    def takeAction(self, action):\n",
    "        newState = deepcopy(self)\n",
    "        newState.board[(action.x, action.y)] = action.value\n",
    "        newState.last_position_filled = (action.x, action.y)\n",
    "        return newState\n",
    "    \n",
    "    def isTerminal(self):\n",
    "        if not self.last_position_filled: # not started\n",
    "            return False\n",
    "        if not is_fill_valid(self.board, self.last_position_filled):\n",
    "            return True\n",
    "        if len(self.available_positions()) == 0:\n",
    "            return True\n",
    "        return False\n",
    "        \n",
    "    def getReward(self):\n",
    "        if not is_fill_valid(self.board, self.last_position_filled):\n",
    "            return -1\n",
    "        if len(self.available_positions()) == 0:\n",
    "            return 1\n",
    "        return None"
   ]
  },
  {
   "cell_type": "code",
   "execution_count": 14,
   "metadata": {
    "scrolled": true
   },
   "outputs": [
    {
     "name": "stdout",
     "output_type": "stream",
     "text": [
      "My action is 3,0 -> 3\n"
     ]
    }
   ],
   "source": [
    "from mcts import mcts\n",
    "mcts = mcts(timeLimit=1000)\n",
    "action = mcts.search(initialState=State())\n",
    "\n",
    "print(f\"My action is {action}\")"
   ]
  },
  {
   "cell_type": "code",
   "execution_count": null,
   "metadata": {},
   "outputs": [],
   "source": []
  }
 ],
 "metadata": {
  "kernelspec": {
   "display_name": "Python 3",
   "language": "python",
   "name": "python3"
  },
  "language_info": {
   "codemirror_mode": {
    "name": "ipython",
    "version": 3
   },
   "file_extension": ".py",
   "mimetype": "text/x-python",
   "name": "python",
   "nbconvert_exporter": "python",
   "pygments_lexer": "ipython3",
   "version": "3.8.1"
  }
 },
 "nbformat": 4,
 "nbformat_minor": 2
}
