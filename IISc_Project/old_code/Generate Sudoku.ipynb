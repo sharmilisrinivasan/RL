{
 "cells": [
  {
   "cell_type": "code",
   "execution_count": 1,
   "metadata": {},
   "outputs": [],
   "source": [
    "import math\n",
    "from random import choices, sample\n",
    "\n",
    "import numpy as np"
   ]
  },
  {
   "cell_type": "code",
   "execution_count": 2,
   "metadata": {},
   "outputs": [],
   "source": [
    "class Board:\n",
    "    def __init__(self, board_dim=4, clues_cnt=4):\n",
    "        self.dim = board_dim\n",
    "        self.clues = clues_cnt\n",
    "        self.generate_board()\n",
    "      \n",
    "    @staticmethod\n",
    "    def is_rec_valid(rec):\n",
    "        non_zero_ele = len(set(rec[rec != 0.0]))\n",
    "        zero_ele = len(rec[rec == 0.0])\n",
    "        return (non_zero_ele + zero_ele) == len(rec)\n",
    "    \n",
    "    def get_row(self, position):\n",
    "        row_pos, _ = position\n",
    "        return self.board[row_pos]\n",
    "    \n",
    "    def get_col(self, position):\n",
    "        _, col_pos = position\n",
    "        return np.array([self.board[(i, col_pos)] for i in range(self.dim)])\n",
    "    \n",
    "    def get_square(self, position):\n",
    "        row_pos, col_pos = position\n",
    "        \n",
    "        delimit = int(math.sqrt(self.dim))\n",
    "        start_row_pos = int((row_pos // delimit) * delimit)\n",
    "        start_col_pos = int((col_pos // delimit) * delimit)\n",
    "        \n",
    "        box_vals_arr = []\n",
    "        for i in range(start_row_pos, start_row_pos + delimit):\n",
    "            for j in range(start_col_pos, start_col_pos + delimit):\n",
    "                box_vals_arr.append(self.board[(i, j)])\n",
    "        \n",
    "        return np.array(box_vals_arr)\n",
    "    \n",
    "    def get_pos_hash(self, position):\n",
    "        return (\"\".join(map(str,map(int,self.get_row(position))))+\n",
    "                \"\".join(map(str,map(int,self.get_col(position))))+\n",
    "                \"\".join(map(str,map(int,self.get_square(position)))))\n",
    "    \n",
    "    def is_fill_valid(self, position_filled):\n",
    "        row_filled, col_filled = position_filled\n",
    "\n",
    "        return (self.is_rec_valid(self.get_row(position_filled)) and\n",
    "                self.is_rec_valid(self.get_col(position_filled)) and\n",
    "                self.is_rec_valid(self.get_square(position_filled)))\n",
    "    \n",
    "    def available_positions(self):\n",
    "        positions = []\n",
    "        for row in range(self.dim):\n",
    "            for col in range(self.dim):\n",
    "                if self.board[row, col] == 0:\n",
    "                    positions.append((row, col))\n",
    "        return positions\n",
    "\n",
    "    def is_board_full(self):\n",
    "        for row in range(self.dim):\n",
    "            if len(np.where(self.get_row((row,0))==0.0)[0]) > 0:\n",
    "                return False\n",
    "        return True\n",
    "    \n",
    "    def generate_board(self):\n",
    "        while True:\n",
    "            self.board = np.zeros((self.dim, self.dim))\n",
    "            positions = sample([(i,j) for i in range(self.dim) for j in range(self.dim)], self.clues)\n",
    "            vals = choices(range(1,5), k=4)\n",
    "            success = True\n",
    "            for position,val in zip(positions, vals):\n",
    "                self.board[position] = val\n",
    "                if not self.is_fill_valid(position):\n",
    "                    success=False\n",
    "                    break\n",
    "            if success:\n",
    "                break"
   ]
  },
  {
   "cell_type": "code",
   "execution_count": 5,
   "metadata": {},
   "outputs": [],
   "source": [
    "board = Board()"
   ]
  },
  {
   "cell_type": "code",
   "execution_count": 6,
   "metadata": {},
   "outputs": [
    {
     "data": {
      "text/plain": [
       "array([[0., 0., 0., 0.],\n",
       "       [0., 4., 3., 0.],\n",
       "       [0., 0., 0., 0.],\n",
       "       [2., 0., 0., 4.]])"
      ]
     },
     "execution_count": 6,
     "metadata": {},
     "output_type": "execute_result"
    }
   ],
   "source": [
    "board.board"
   ]
  },
  {
   "cell_type": "code",
   "execution_count": null,
   "metadata": {},
   "outputs": [],
   "source": []
  },
  {
   "cell_type": "code",
   "execution_count": null,
   "metadata": {},
   "outputs": [],
   "source": []
  },
  {
   "cell_type": "code",
   "execution_count": null,
   "metadata": {},
   "outputs": [],
   "source": []
  },
  {
   "cell_type": "code",
   "execution_count": null,
   "metadata": {},
   "outputs": [],
   "source": []
  },
  {
   "cell_type": "code",
   "execution_count": null,
   "metadata": {},
   "outputs": [],
   "source": []
  },
  {
   "cell_type": "code",
   "execution_count": null,
   "metadata": {},
   "outputs": [],
   "source": []
  }
 ],
 "metadata": {
  "kernelspec": {
   "display_name": "Python 3",
   "language": "python",
   "name": "python3"
  },
  "language_info": {
   "codemirror_mode": {
    "name": "ipython",
    "version": 3
   },
   "file_extension": ".py",
   "mimetype": "text/x-python",
   "name": "python",
   "nbconvert_exporter": "python",
   "pygments_lexer": "ipython3",
   "version": "3.7.3"
  }
 },
 "nbformat": 4,
 "nbformat_minor": 4
}
